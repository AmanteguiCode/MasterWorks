{
 "cells": [
  {
   "cell_type": "markdown",
   "metadata": {},
   "source": [
    "# First Assignment"
   ]
  },
  {
   "cell_type": "markdown",
   "metadata": {},
   "source": [
    "A company produces a set of products at $I$ plants. It then ships these products to $J$ market zones.\n",
    "For $i = 1,...,I$ and $j = 1,...,J$, the following data are given:\n",
    "\n",
    "$v_{i} \\equiv$ variable cost of producing one unit of product at plant $i$.\n",
    "\n",
    "$c_{ij} \\equiv$ cost of shipping one unit of product from plant $i$ to market $j$.\n",
    "\n",
    "$d_{j} \\equiv$ demand for products at market $j$.\n",
    "\n",
    "$M_{i} \\equiv$ maximum number or products produced at plant $i$.\n",
    "\n",
    "$p_{j} \\equiv$ selling price for products at market $j$.\n",
    "\n",
    "$F \\equiv $ maximum transportation capacity between plant $i$ and market $j$ (assume all transportation capacities are equal)."
   ]
  },
  {
   "cell_type": "markdown",
   "metadata": {},
   "source": [
    "**a)** Formulate the problem (linear program) of maximizing the total profit that the\n",
    "company is facing (total selling revenue - total production and transportation costs) by\n",
    "identifying the optimal production and transportation schedule. Assume also that demand\n",
    "is satisfy with \"equality\", i.e., \"total product reaching market $j$\" = $d_{j}$ )."
   ]
  },
  {
   "cell_type": "markdown",
   "metadata": {},
   "source": [
    "#### SOLUTION"
   ]
  },
  {
   "cell_type": "markdown",
   "metadata": {},
   "source": [
    "First of all, the $I \\cdot J$ variables of our problem are the following ones:\n",
    "\n",
    "$X_{ij} \\equiv$ units produced in market $i$ and sold in market $j$.  \n",
    "\n",
    "Then the optimization problem is:\n",
    "\n",
    " $$ \\max (\\sum_{i=1}^{I}  \\sum_{j=1}^{J} p_{j} X_{ij} - \\sum_{i=1}^{I}  \\sum_{j=1}^{J} v_{i} c_{ij} X_{ij})$$\n",
    "\n",
    "\n",
    "s.t.\n",
    "\n",
    "$\\displaystyle \\sum_{i=1}^{I} X_{ij} = d_{j} \\quad j=1,...,J \\quad $  (We have to satisfy the demand of $J$ markets)\n",
    "\n",
    "$\\displaystyle \\sum_{j=1}^{J} X_{ij} \\le M_{i} \\quad i=1,...,I \\quad $  (We can not produce more than the capacity for each of the $I$ plants)\n",
    "\n",
    "$X_{ij} \\le F \\quad j=1,...,J \\quad i=1,...,I \\quad $ (We can not transport more than $F$ from plant $i$ to market $j$)\n",
    "\n",
    "$X_{ij} \\ge 0 \\quad j=1,...,J \\quad i=1,...,I \\quad $ (We can not produce negative units)"
   ]
  },
  {
   "cell_type": "markdown",
   "metadata": {},
   "source": [
    "**b)** Implement the model in Pyomo as an \"AbstractModel()\" and solve it considering\n",
    "5 plants and 6 markets and randomly generated parameters. For the random generation of\n",
    "these parameters consider uniform distributions within the following ranges: $v_{i} \\in [1.5 , 2.5] $,\n",
    "$c_{ij} \\in [1,2]$, $dj \\in [275, 325]$, $M_{i} \\in [400, 900]$, $p_{j} \\in [4, 5]$ and  $F \\in[250, 350]$."
   ]
  },
  {
   "cell_type": "markdown",
   "metadata": {},
   "source": [
    "Random variable declaration"
   ]
  },
  {
   "cell_type": "code",
   "execution_count": 55,
   "metadata": {
    "collapsed": true
   },
   "outputs": [],
   "source": [
    "import numpy as np\n",
    "import matplotlib.pyplot as plt\n",
    "import random\n",
    "%matplotlib inline\n",
    "np.random.seed()\n",
    "################ DATA #####################\n",
    "n_plants=5; #number of factories\n",
    "n_markets=6; #number of markets\n",
    "\n",
    "# 6 production cost for plant i\n",
    "plant_cost = np.random.rand(n_plants) + 1.5\n",
    "\n",
    "# 5 maximum capacity at plant i\n",
    "max_cap = np.random.rand(n_plants) * 500 + 400\n",
    "\n",
    "# 2 cost of shipping one unit of product from plant i to market j.\n",
    "trans_cost = np.random.rand(n_plants,n_markets) + 1\n",
    "\n",
    "# 3 demand for products at market j\n",
    "market_dem = np.random.rand(n_markets) * 50 + 275\n",
    "\n",
    "# 4 selling price at market j\n",
    "sell_price = np.random.rand(n_markets) + 4\n",
    "\n",
    "# 1 Transportation capacity \n",
    "trans_cap = np.ones((n_plants,n_markets))*np.random.uniform(low=250, high=350, size=1)[0]"
   ]
  },
  {
   "cell_type": "markdown",
   "metadata": {},
   "source": [
    "Creating model"
   ]
  },
  {
   "cell_type": "code",
   "execution_count": 56,
   "metadata": {
    "collapsed": true
   },
   "outputs": [],
   "source": [
    "from pyomo.environ import *\n",
    "opt = SolverFactory(\"glpk\")\n",
    "from pyomo.opt import SolverFactory\n",
    "\n",
    "def trans_opt(I,J,v,c,d,M,p,F):\n",
    "\n",
    "    model = AbstractModel()\n",
    "    model.I = RangeSet(1,I) \n",
    "    model.J = RangeSet(1,J)\n",
    "\n",
    "    # the next line declares a variable indexed by the set J \n",
    "    model.x = Var(model.I,model.J, domain=NonNegativeReals)\n",
    "\n",
    "    #definition of the objective function\n",
    "    def obj_expression(model): \n",
    "        return sum(sum(p[j-1]*model.x[i,j] for i in model.I) for j in model.J)-sum(sum(v[i-1]*model.x[i,j] for j in model.J) for i in model.I)-sum(sum(c[i-1,j-1]*model.x[i,j] for i in model.I) for j in model.J)\n",
    "    \n",
    "    model.OBJ = Objective(rule=obj_expression, sense=maximize)\n",
    "    \n",
    "    \n",
    "    #maximum flow per line\n",
    "    def flow_constraint_rule(model, i,j): # return the expression for the constraint for i\n",
    "        return model.x[i,j] <= F[i-1,j-1]\n",
    "    model.max_flow = Constraint(model.I,model.J, rule=flow_constraint_rule)\n",
    "\n",
    "    #minimum demand constraint\n",
    "    def d_constraint_rule(model, j): # return the expression for the constraint for i\n",
    "        return sum(model.x[i,j] for i in model.I) == d[j-1]\n",
    "    \n",
    "    #the next line creates one constraint for each member of the set model.J \n",
    "    model.dem_Constraint = Constraint(model.J, rule=d_constraint_rule)\n",
    "\n",
    "    #maximum production constraint\n",
    "    def M_constraint_rule(model, i): # return the expression for the constraint for i\n",
    "        return sum(model.x[i,j] for j in model.J)<= M[i-1]\n",
    "    \n",
    "    model.prod_Constraint = Constraint(model.I, rule=M_constraint_rule)\n",
    "\n",
    "    \n",
    "    instance = model.create_instance()\n",
    "    #instance = model.create()\n",
    "    #instance.dual = Suffix(direction=Suffix.IMPORT)\n",
    "    results = opt.solve(instance)\n",
    "\n",
    "    x_sol = np.zeros((I,J))\n",
    "    for i in range(0, I):\n",
    "            for j in range(0,J):\n",
    "                x_sol[i,j]=instance.x[i+1,j+1].value\n",
    "\n",
    "    return instance.OBJ(), x_sol"
   ]
  },
  {
   "cell_type": "code",
   "execution_count": 57,
   "metadata": {
    "collapsed": true
   },
   "outputs": [],
   "source": [
    "obj,x_sol=trans_opt(n_plants,n_markets,plant_cost,trans_cost,market_dem,max_cap,sell_price,trans_cap)"
   ]
  },
  {
   "cell_type": "code",
   "execution_count": 58,
   "metadata": {},
   "outputs": [
    {
     "data": {
      "text/plain": [
       "2285.298048787304"
      ]
     },
     "execution_count": 58,
     "metadata": {},
     "output_type": "execute_result"
    }
   ],
   "source": [
    "obj"
   ]
  },
  {
   "cell_type": "code",
   "execution_count": 59,
   "metadata": {},
   "outputs": [
    {
     "data": {
      "text/plain": [
       "array([[  39.05349101,    0.        ,  316.51793048,    0.        ,\n",
       "         308.36656161,    0.        ],\n",
       "       [   0.        ,    0.        ,    0.        ,    0.        ,\n",
       "           0.        ,    0.        ],\n",
       "       [ 243.76715811,    0.        ,    0.        ,  314.99859567,\n",
       "           0.        ,  299.80517594],\n",
       "       [   0.        ,  291.50133395,    0.        ,    0.        ,\n",
       "           0.        ,    0.        ],\n",
       "       [   0.        ,    0.        ,    0.        ,    0.        ,\n",
       "           0.        ,    0.        ]])"
      ]
     },
     "execution_count": 59,
     "metadata": {},
     "output_type": "execute_result"
    }
   ],
   "source": [
    "x_sol"
   ]
  },
  {
   "cell_type": "markdown",
   "metadata": {},
   "source": [
    "**c)i)** Considering the results: which plant's maximum capacity would be more bene\f",
    "cial\n",
    "to increase? Justify\n",
    "your answers."
   ]
  },
  {
   "cell_type": "code",
   "execution_count": 65,
   "metadata": {},
   "outputs": [
    {
     "name": "stdout",
     "output_type": "stream",
     "text": [
      "The original plant capacities where:\n",
      "[ 1190.90157399  2072.13682872  1685.88461919   732.66689187   408.08424798]\n",
      "('Value for obj increasing in plant', 1, ' is ', 2334.413156171067)\n",
      "('Value for obj increasing in plant', 2, ' is ', 2334.413156171067)\n",
      "('Value for obj increasing in plant', 3, ' is ', 2334.413156171067)\n",
      "('Value for obj increasing in plant', 4, ' is ', 2334.413156171067)\n",
      "('Value for obj increasing in plant', 5, ' is ', 2334.413156171067)\n",
      "('The profit will increase the most if the maximum capacity was increased for plant:', 1)\n"
     ]
    },
    {
     "data": {
      "text/plain": [
       "[<matplotlib.lines.Line2D at 0x11ab45c0>]"
      ]
     },
     "execution_count": 65,
     "metadata": {},
     "output_type": "execute_result"
    },
    {
     "data": {
      "image/png": "[encoded data removed]",
      "text/plain": [
       "<matplotlib.figure.Figure at 0xfd40828>"
      ]
     },
     "metadata": {},
     "output_type": "display_data"
    }
   ],
   "source": [
    "aux_obj = 0\n",
    "aux_plant = -1\n",
    "v_obj=np.zeros(n_plants)\n",
    "\n",
    "print(\"The original plant capacities where:\")\n",
    "print(max_cap)\n",
    "aux_capacity = max_cap\n",
    "for plant in range(0, max_cap.size):\n",
    "    aux_capacity[plant] = aux_capacity[plant]+1\n",
    "    if(plant > 0):\n",
    "        aux_capacity[plant-1] = aux_capacity[plant-1]-1\n",
    "    obj,x_sol=trans_opt(n_plants,n_markets,plant_cost,trans_cost,market_dem,aux_capacity,sell_price,trans_cap)\n",
    "    print(\"Value for obj increasing in plant\", plant + 1, \" is \", obj)\n",
    "    v_obj[plant]=obj\n",
    "    if aux_obj < obj:\n",
    "        aux_obj = obj\n",
    "        aux_plant = plant+1\n",
    "      \n",
    "\n",
    "print(\"The profit will increase the most if the maximum capacity was increased for plant:\", aux_plant)\n",
    "plt.plot(range(1,n_plants+1),v_obj)"
   ]
  },
  {
   "cell_type": "markdown",
   "metadata": {},
   "source": [
    "We can also observe graphically how the profit rises while we increase the plants capacity:"
   ]
  },
  {
   "cell_type": "code",
   "execution_count": 66,
   "metadata": {},
   "outputs": [
    {
     "name": "stdout",
     "output_type": "stream",
     "text": [
      "[ 1190.90157399  2072.13682872  1685.88461919   732.66689187   409.08424798]\n",
      "[ 1200.90157399  2072.13682872  1685.88461919   732.66689187   409.08424798]\n",
      "[ 1210.90157399  2072.13682872  1685.88461919   732.66689187   409.08424798]\n",
      "[ 1220.90157399  2072.13682872  1685.88461919   732.66689187   409.08424798]\n",
      "[ 1230.90157399  2072.13682872  1685.88461919   732.66689187   409.08424798]\n",
      "[ 1240.90157399  2072.13682872  1685.88461919   732.66689187   409.08424798]\n",
      "[ 1250.90157399  2072.13682872  1685.88461919   732.66689187   409.08424798]\n",
      "[ 1260.90157399  2072.13682872  1685.88461919   732.66689187   409.08424798]\n",
      "[ 1270.90157399  2072.13682872  1685.88461919   732.66689187   409.08424798]\n",
      "[ 1280.90157399  2072.13682872  1685.88461919   732.66689187   409.08424798]\n",
      "[ 1290.90157399  2072.13682872  1685.88461919   732.66689187   409.08424798]\n",
      "[ 1300.90157399  2072.13682872  1685.88461919   732.66689187   409.08424798]\n",
      "[ 1310.90157399  2072.13682872  1685.88461919   732.66689187   409.08424798]\n",
      "[ 1320.90157399  2072.13682872  1685.88461919   732.66689187   409.08424798]\n",
      "[ 1330.90157399  2072.13682872  1685.88461919   732.66689187   409.08424798]\n",
      "[ 1340.90157399  2072.13682872  1685.88461919   732.66689187   409.08424798]\n",
      "[ 1350.90157399  2072.13682872  1685.88461919   732.66689187   409.08424798]\n",
      "[ 1360.90157399  2072.13682872  1685.88461919   732.66689187   409.08424798]\n",
      "[ 1370.90157399  2072.13682872  1685.88461919   732.66689187   409.08424798]\n",
      "[ 1380.90157399  2072.13682872  1685.88461919   732.66689187   409.08424798]\n",
      "[ 1390.90157399  2072.13682872  1685.88461919   732.66689187   409.08424798]\n",
      "[ 1400.90157399  2072.13682872  1685.88461919   732.66689187   409.08424798]\n",
      "[ 1410.90157399  2072.13682872  1685.88461919   732.66689187   409.08424798]\n",
      "[ 1420.90157399  2072.13682872  1685.88461919   732.66689187   409.08424798]\n",
      "[ 1430.90157399  2072.13682872  1685.88461919   732.66689187   409.08424798]\n",
      "[ 1440.90157399  2072.13682872  1685.88461919   732.66689187   409.08424798]\n",
      "[ 1450.90157399  2072.13682872  1685.88461919   732.66689187   409.08424798]\n",
      "[ 1460.90157399  2072.13682872  1685.88461919   732.66689187   409.08424798]\n",
      "[ 1470.90157399  2072.13682872  1685.88461919   732.66689187   409.08424798]\n",
      "[ 1480.90157399  2072.13682872  1685.88461919   732.66689187   409.08424798]\n",
      "[ 1490.90157399  2072.13682872  1685.88461919   732.66689187   409.08424798]\n",
      "[ 1500.90157399  2072.13682872  1685.88461919   732.66689187   409.08424798]\n",
      "[ 1510.90157399  2072.13682872  1685.88461919   732.66689187   409.08424798]\n",
      "[ 1520.90157399  2072.13682872  1685.88461919   732.66689187   409.08424798]\n",
      "[ 1530.90157399  2072.13682872  1685.88461919   732.66689187   409.08424798]\n",
      "[ 1540.90157399  2072.13682872  1685.88461919   732.66689187   409.08424798]\n",
      "[ 1550.90157399  2072.13682872  1685.88461919   732.66689187   409.08424798]\n",
      "[ 1560.90157399  2072.13682872  1685.88461919   732.66689187   409.08424798]\n",
      "[ 1570.90157399  2072.13682872  1685.88461919   732.66689187   409.08424798]\n",
      "[ 1580.90157399  2072.13682872  1685.88461919   732.66689187   409.08424798]\n",
      "[ 1590.90157399  2072.13682872  1685.88461919   732.66689187   409.08424798]\n",
      "[ 1600.90157399  2072.13682872  1685.88461919   732.66689187   409.08424798]\n",
      "[ 1610.90157399  2072.13682872  1685.88461919   732.66689187   409.08424798]\n",
      "[ 1620.90157399  2072.13682872  1685.88461919   732.66689187   409.08424798]\n",
      "[ 1630.90157399  2072.13682872  1685.88461919   732.66689187   409.08424798]\n",
      "[ 1640.90157399  2072.13682872  1685.88461919   732.66689187   409.08424798]\n",
      "[ 1650.90157399  2072.13682872  1685.88461919   732.66689187   409.08424798]\n",
      "[ 1660.90157399  2072.13682872  1685.88461919   732.66689187   409.08424798]\n",
      "[ 1670.90157399  2072.13682872  1685.88461919   732.66689187   409.08424798]\n"
     ]
    },
    {
     "data": {
      "text/plain": [
       "[<matplotlib.lines.Line2D at 0x11a24a58>]"
      ]
     },
     "execution_count": 66,
     "metadata": {},
     "output_type": "execute_result"
    },
    {
     "data": {
      "image/png": "[encoded data removed]",
      "text/plain": [
       "<matplotlib.figure.Figure at 0x11a82390>"
      ]
     },
     "metadata": {},
     "output_type": "display_data"
    }
   ],
   "source": [
    "aux_plant = aux_plant -1\n",
    "aux_capacity = max_cap\n",
    "aux_obj = np.zeros(50)\n",
    "for increase in range(1, 50):\n",
    "    aux_capacity[aux_plant] = aux_capacity[aux_plant] + 10 \n",
    "    aux_obj[increase],x_sol=trans_opt(n_plants,n_markets,plant_cost,trans_cost,market_dem,aux_capacity,sell_price,trans_cap)\n",
    "    \n",
    "plt.plot(range(0,aux_obj.size),aux_obj)"
   ]
  },
  {
   "cell_type": "markdown",
   "metadata": {},
   "source": [
    "**c)ii)** and in which market would be more beneficial to increase the demand? Justify\n",
    "your answers."
   ]
  },
  {
   "cell_type": "code",
   "execution_count": 8,
   "metadata": {},
   "outputs": [
    {
     "name": "stdout",
     "output_type": "stream",
     "text": [
      "The original market demands where:\n",
      "[ 292.0167132   303.47454974  276.83918245  324.05604481  301.03260835\n",
      "  287.31032406]\n",
      "('Value for obj increasing in market', 1, ' is ', 2719.2677186673395)\n",
      "('Value for obj increasing in market', 2, ' is ', 2719.5882772562877)\n",
      "('Value for obj increasing in market', 3, ' is ', 2719.411756652979)\n",
      "('Value for obj increasing in market', 4, ' is ', 2719.6048703100855)\n",
      "('Value for obj increasing in market', 5, ' is ', 2719.9009044872682)\n",
      "('Value for obj increasing in market', 6, ' is ', 2719.2303019367127)\n",
      "('The profit will increase the most if the demand was increased for market:', 5)\n"
     ]
    },
    {
     "data": {
      "text/plain": [
       "[<matplotlib.lines.Line2D at 0xf5e4748>]"
      ]
     },
     "execution_count": 8,
     "metadata": {},
     "output_type": "execute_result"
    },
    {
     "data": {
      "image/png": "[encoded data removed]",
      "text/plain": [
       "<matplotlib.figure.Figure at 0xf29d6d8>"
      ]
     },
     "metadata": {},
     "output_type": "display_data"
    }
   ],
   "source": [
    "aux_obj = 0\n",
    "aux_market = -1\n",
    "v_obj=np.zeros(n_markets)\n",
    "\n",
    "print(\"The original market demands where:\")\n",
    "print(market_dem)\n",
    "aux_dem = market_dem\n",
    "for market in range(0, market_dem.size):\n",
    "    aux_dem[market] = aux_dem[market]+1\n",
    "    if(market > 0):\n",
    "        aux_dem[market-1] = aux_dem[market-1]-1\n",
    "    obj,x_sol=trans_opt(n_plants,n_markets,plant_cost,trans_cost,aux_dem,max_cap,sell_price,trans_cap)\n",
    "    print(\"Value for obj increasing in market\", market + 1, \" is \", obj)\n",
    "    v_obj[market]=obj\n",
    "    if aux_obj < obj:\n",
    "        aux_obj = obj\n",
    "        aux_market = market+1\n",
    "      \n",
    "\n",
    "print(\"The profit will increase the most if the demand was increased for market:\", aux_market)\n",
    "plt.plot(range(1,n_markets+1),v_obj)"
   ]
  },
  {
   "cell_type": "markdown",
   "metadata": {},
   "source": [
    "### D) Modifications"
   ]
  },
  {
   "cell_type": "markdown",
   "metadata": {},
   "source": [
    "Modify the formulation in a) to impose that:<br>\n",
    "1. Each plant is allowed to send its products to a maximum of 5 different markets. (For demonstrative reasons I changed the maximum value to 3)<br>\n",
    "2. Plants, if operative, cannot produce less than 10% of their maximum capacity, i.e., a plant can produce either 0 products (if not operative) or a quantity greater than 10% of its maximum capacity (if operative).<br>\n",
    "Solve the resulting model in Pyomo and interpret the new results. (tip: binary variables may\n",
    "be needed).<br>"
   ]
  },
  {
   "cell_type": "markdown",
   "metadata": {},
   "source": [
    "**SOLUTION 1**\n",
    " \n",
    "\n",
    "**$Y_{ij} \\equiv$ 1 if the plant $i$ sends units to market $j$, 0 if not.** \n",
    "\n",
    "Then the optimization problem is:\n",
    "\n",
    " $$ \\max (\\sum_{i=1}^{I}  \\sum_{j=1}^{J} p_{j} X_{ij} - \\sum_{i=1}^{I}  \\sum_{j=1}^{J} v_{i} c_{ij} X_{ij})$$\n",
    "\n",
    "\n",
    "new s.t.\n",
    "\n",
    "$\\displaystyle \\sum_{j=1}^{J} Y_{ij} \\le 5 \\quad i=1,...,I \\quad $  (**Each plant can not send to more than 5 markets**)"
   ]
  },
  {
   "cell_type": "code",
   "execution_count": 9,
   "metadata": {
    "collapsed": true
   },
   "outputs": [],
   "source": [
    "from pyomo.environ import *\n",
    "opt = SolverFactory(\"glpk\")\n",
    "from pyomo.opt import SolverFactory\n",
    "\n",
    "def trans_opt_1(I,J,v,c,d,M,p,F):\n",
    "\n",
    "    model = AbstractModel()\n",
    "    model.I = RangeSet(1,I) \n",
    "    model.J = RangeSet(1,J)\n",
    "    model.b = Var(model.I,model.J, within=Binary)\n",
    "\n",
    "    # the next line declares a variable indexed by the set J \n",
    "    model.x = Var(model.I,model.J, domain=NonNegativeReals)\n",
    "\n",
    "    #definition of the objective function\n",
    "    def obj_expression(model): \n",
    "        return sum(sum(p[j-1]*model.x[i,j] for i in model.I) for j in model.J)-sum(sum(v[i-1]*model.x[i,j] for j in model.J) for i in model.I)-sum(sum(c[i-1,j-1]*model.x[i,j] for i in model.I) for j in model.J)\n",
    "    \n",
    "    model.OBJ = Objective(rule=obj_expression, sense=maximize)\n",
    "    \n",
    "    \n",
    "    #maximum flow per line\n",
    "    def flow_constraint_rule(model, i,j): # return the expression for the constraint for i\n",
    "        return model.x[i,j] <= F[i-1,j-1]\n",
    "    model.max_flow = Constraint(model.I,model.J, rule=flow_constraint_rule)\n",
    "\n",
    "    #minimum demand constraint\n",
    "    def d_constraint_rule(model, j): # return the expression for the constraint for i\n",
    "        return sum(model.x[i,j] for i in model.I) == d[j-1]\n",
    "    \n",
    "    #the next line creates one constraint for each member of the set model.J \n",
    "    model.dem_Constraint = Constraint(model.J, rule=d_constraint_rule)\n",
    "\n",
    "    #maximum production constraint\n",
    "    def M_constraint_rule(model, i): # return the expression for the constraint for i\n",
    "        return sum(model.x[i,j] for j in model.J)<= M[i-1]\n",
    "    \n",
    "    model.prod_Constraint = Constraint(model.I, rule=M_constraint_rule)\n",
    "    \n",
    "    #Binary representation maximum markets per plant\n",
    "    def max_markets_constraint_rule(model, i): # return the expression to constrain the relation between i and j\n",
    "        return sum(model.b[i,j] for j in model.J) <= 3\n",
    "    \n",
    "    model.max_markets_constraint_rule = Constraint(model.I, rule=max_markets_constraint_rule)\n",
    "    \n",
    "    #Limiting real numbers through binary model\n",
    "    def bound_constraint_rule(model,i,j): \n",
    "        return model.x[i,j] <=  model.b[i,j]*M[i-1]\n",
    "    \n",
    "    model.bound_constraint_rule = Constraint(model.I,model.J,rule=bound_constraint_rule)\n",
    "\n",
    "    instance = model.create_instance()\n",
    "    #instance = model.create()\n",
    "    #instance.dual = Suffix(direction=Suffix.IMPORT)\n",
    "    results = opt.solve(instance)\n",
    "\n",
    "    x_sol = np.zeros((I,J))\n",
    "    s_sol = np.zeros((I,J))\n",
    "    for i in range(0, I):\n",
    "            for j in range(0,J):\n",
    "                x_sol[i,j]=instance.x[i+1,j+1].value\n",
    "                s_sol[i,j]=instance.b[i+1,j+1].value\n",
    "\n",
    "    return instance.OBJ(), x_sol"
   ]
  },
  {
   "cell_type": "code",
   "execution_count": 10,
   "metadata": {
    "collapsed": true
   },
   "outputs": [],
   "source": [
    "obj_1,x_sol_1=trans_opt_1(n_plants,n_markets,plant_cost,trans_cost,market_dem,max_cap,sell_price,trans_cap)"
   ]
  },
  {
   "cell_type": "code",
   "execution_count": 11,
   "metadata": {},
   "outputs": [
    {
     "name": "stdout",
     "output_type": "stream",
     "text": [
      "('The first objective was: ', 2719.2303019367127, ' and after the modification: ', 2719.2303019367127)\n"
     ]
    }
   ],
   "source": [
    "print(\"The first objective was: \", obj, \" and after the modification: \", obj_1)"
   ]
  },
  {
   "cell_type": "code",
   "execution_count": 12,
   "metadata": {},
   "outputs": [
    {
     "name": "stdout",
     "output_type": "stream",
     "text": [
      "Our first solution was: \n",
      "[[   0.            0.            0.            0.            0.            0.        ]\n",
      " [   0.          117.78328824    0.          196.04321643    0.\n",
      "   288.31032406]\n",
      " [   0.            0.          276.83918245  128.01282838  301.03260835\n",
      "     0.        ]\n",
      " [   0.            0.            0.            0.            0.            0.        ]\n",
      " [ 292.0167132   185.6912615     0.            0.            0.            0.        ]]\n"
     ]
    }
   ],
   "source": [
    "print(\"Our first solution was: \")\n",
    "print(x_sol)"
   ]
  },
  {
   "cell_type": "code",
   "execution_count": 13,
   "metadata": {},
   "outputs": [
    {
     "name": "stdout",
     "output_type": "stream",
     "text": [
      "And the second one: \n",
      "[[   0.            0.            0.            0.            0.            0.        ]\n",
      " [   0.          117.78328824    0.          196.04321643    0.\n",
      "   288.31032406]\n",
      " [   0.            0.          276.83918245  128.01282838  301.03260835\n",
      "     0.        ]\n",
      " [   0.            0.            0.            0.            0.            0.        ]\n",
      " [ 292.0167132   185.6912615     0.            0.            0.            0.        ]]\n"
     ]
    }
   ],
   "source": [
    "print(\"And the second one: \")\n",
    "print(x_sol_1)"
   ]
  },
  {
   "cell_type": "markdown",
   "metadata": {
    "collapsed": true
   },
   "source": [
    "**SOLUTION 2**\n",
    "\n",
    "**$A_{i} \\equiv$ 1 if the plant $i$ is active, 0 if not.** (This last variale is needed for the third constraint inequation due to the fact that, if the plant $i$ does not produce, then 0 would be greater or equal than a positive number)\n",
    "\n",
    "new s.t.\n",
    "\n",
    "$\\displaystyle \\sum_{j=1}^{J} X_{ij} \\ge 0.1 M_{i} A_{i}\\quad i=1,...,I \\quad $  (**If the plant produces , we can not produce less than the 10% of its capacity**)"
   ]
  },
  {
   "cell_type": "code",
   "execution_count": 14,
   "metadata": {
    "collapsed": true
   },
   "outputs": [],
   "source": [
    "from pyomo.environ import *\n",
    "opt = SolverFactory(\"glpk\")\n",
    "from pyomo.opt import SolverFactory\n",
    "\n",
    "def trans_opt_2(I,J,v,c,d,M,p,F):\n",
    "\n",
    "    model = AbstractModel()\n",
    "    model.I = RangeSet(1,I) \n",
    "    model.J = RangeSet(1,J)\n",
    "    model.b = Var(model.I,model.J, within=Binary)\n",
    "    model.b2 = Var(model.I, within=Binary)\n",
    "\n",
    "    # the next line declares a variable indexed by the set J \n",
    "    model.x = Var(model.I,model.J, domain=NonNegativeReals)\n",
    "\n",
    "    #definition of the objective function\n",
    "    def obj_expression(model): \n",
    "        return sum(sum(p[j-1]*model.x[i,j] for i in model.I) for j in model.J)-sum(sum(v[i-1]*model.x[i,j] for j in model.J) for i in model.I)-sum(sum(c[i-1,j-1]*model.x[i,j] for i in model.I) for j in model.J)\n",
    "    \n",
    "    model.OBJ = Objective(rule=obj_expression, sense=maximize)\n",
    "    \n",
    "    \n",
    "    #maximum flow per line\n",
    "    def flow_constraint_rule(model, i,j): # return the expression for the constraint for i\n",
    "        return model.x[i,j] <= F[i-1,j-1]\n",
    "    model.max_flow = Constraint(model.I,model.J, rule=flow_constraint_rule)\n",
    "\n",
    "    #minimum demand constraint\n",
    "    def d_constraint_rule(model, j): # return the expression for the constraint for i\n",
    "        return sum(model.x[i,j] for i in model.I) == d[j-1]\n",
    "    \n",
    "    #the next line creates one constraint for each member of the set model.J \n",
    "    model.dem_Constraint = Constraint(model.J, rule=d_constraint_rule)\n",
    "\n",
    "    #maximum production constraint\n",
    "    def M_constraint_rule(model, i): # return the expression for the constraint for i\n",
    "        return sum(model.x[i,j] for j in model.J)<= M[i-1]\n",
    "    \n",
    "    model.prod_Constraint = Constraint(model.I, rule=M_constraint_rule)\n",
    "    \n",
    "    #Binary representation maximum markets per plant\n",
    "    def max_markets_constraint_rule(model, i): # return the expression to constrain the relation between i and j\n",
    "        return sum(model.b[i,j] for j in model.J) <= 3\n",
    "    \n",
    "    model.max_markets_constraint_rule = Constraint(model.I, rule=max_markets_constraint_rule)\n",
    "    \n",
    "    #Limiting real numbers through binary model\n",
    "    def bound_constraint_rule(model,i,j): \n",
    "        return model.x[i,j] <=  model.b[i,j]*M[i-1]\n",
    "    \n",
    "    model.bound_constraint_rule = Constraint(model.I,model.J,rule=bound_constraint_rule)\n",
    "\n",
    "        #Lower bound production constraint\n",
    "    def production_constraint_rule(model, i): \n",
    "        return sum(model.x[i,j] for j in model.J)>= 0.1*M[i-1]*model.b2[i]\n",
    "    \n",
    "    model.production_constraint = Constraint(model.I, rule=production_constraint_rule)\n",
    "    \n",
    "    instance = model.create_instance()\n",
    "    #instance = model.create()\n",
    "    #instance.dual = Suffix(direction=Suffix.IMPORT)\n",
    "    results = opt.solve(instance)\n",
    "\n",
    "    x_sol = np.zeros((I,J))\n",
    "    s_sol = np.zeros((I,J))\n",
    "    for i in range(0, I):\n",
    "            for j in range(0,J):\n",
    "                x_sol[i,j]=instance.x[i+1,j+1].value\n",
    "                s_sol[i,j]=instance.b[i+1,j+1].value\n",
    "\n",
    "    return instance.OBJ(), x_sol"
   ]
  },
  {
   "cell_type": "code",
   "execution_count": 15,
   "metadata": {
    "collapsed": true
   },
   "outputs": [],
   "source": [
    "obj_2,x_sol_2=trans_opt_2(n_plants,n_markets,plant_cost,trans_cost,market_dem,max_cap,sell_price,trans_cap)"
   ]
  },
  {
   "cell_type": "code",
   "execution_count": 16,
   "metadata": {},
   "outputs": [
    {
     "name": "stdout",
     "output_type": "stream",
     "text": [
      "('The first objective was: ', 2719.2303019367127, ' and after the modification: ', 2719.2303019367127)\n"
     ]
    }
   ],
   "source": [
    "print(\"The first objective was: \", obj, \" and after the modification: \", obj_2)"
   ]
  },
  {
   "cell_type": "code",
   "execution_count": 17,
   "metadata": {},
   "outputs": [
    {
     "name": "stdout",
     "output_type": "stream",
     "text": [
      "Our first solution was: \n",
      "[[   0.            0.            0.            0.            0.            0.        ]\n",
      " [   0.          117.78328824    0.          196.04321643    0.\n",
      "   288.31032406]\n",
      " [   0.            0.          276.83918245  128.01282838  301.03260835\n",
      "     0.        ]\n",
      " [   0.            0.            0.            0.            0.            0.        ]\n",
      " [ 292.0167132   185.6912615     0.            0.            0.            0.        ]]\n"
     ]
    }
   ],
   "source": [
    "print(\"Our first solution was: \")\n",
    "print(x_sol)"
   ]
  },
  {
   "cell_type": "code",
   "execution_count": 18,
   "metadata": {},
   "outputs": [
    {
     "name": "stdout",
     "output_type": "stream",
     "text": [
      "And the second one: \n",
      "[[   0.            0.            0.            0.            0.            0.        ]\n",
      " [   0.          117.78328824    0.          196.04321643    0.\n",
      "   288.31032406]\n",
      " [   0.            0.          276.83918245  128.01282838  301.03260835\n",
      "     0.        ]\n",
      " [   0.            0.            0.            0.            0.            0.        ]\n",
      " [ 292.0167132   185.6912615     0.            0.            0.            0.        ]]\n"
     ]
    }
   ],
   "source": [
    "print(\"And the second one: \")\n",
    "print(x_sol_2)"
   ]
  }
 ],
 "metadata": {
  "kernelspec": {
   "display_name": "Python 2",
   "language": "python",
   "name": "python2"
  },
  "language_info": {
   "codemirror_mode": {
    "name": "ipython",
    "version": 2
   },
   "file_extension": ".py",
   "mimetype": "text/x-python",
   "name": "python",
   "nbconvert_exporter": "python",
   "pygments_lexer": "ipython2",
   "version": "2.7.14"
  }
 },
 "nbformat": 4,
 "nbformat_minor": 2
}
